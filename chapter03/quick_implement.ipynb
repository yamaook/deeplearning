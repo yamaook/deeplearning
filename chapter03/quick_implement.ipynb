{
 "cells": [
  {
   "cell_type": "code",
   "execution_count": 1,
   "id": "87e03b7b",
   "metadata": {},
   "outputs": [],
   "source": [
    "import numpy as np\n",
    "import torch\n",
    "from torch.utils import data\n",
    "from d2l import torch as d2l"
   ]
  },
  {
   "cell_type": "markdown",
   "id": "be45ed52",
   "metadata": {},
   "source": [
    "## 1、生成数据集 "
   ]
  },
  {
   "cell_type": "code",
   "execution_count": 2,
   "id": "b4d815a5",
   "metadata": {},
   "outputs": [],
   "source": [
    "true_w = torch.tensor([2,-3.4])\n",
    "true_b = 4.2\n",
    "#根据给定权重和偏置，生成一个数据集\n",
    "features,labels = d2l.synthetic_data(true_w,true_b,1000)"
   ]
  },
  {
   "cell_type": "markdown",
   "id": "58c432cd",
   "metadata": {},
   "source": [
    "## 2、读取数据集 "
   ]
  },
  {
   "cell_type": "code",
   "execution_count": 3,
   "id": "1c9e629c",
   "metadata": {},
   "outputs": [],
   "source": [
    "batch_size=10\n",
    "#data模块可以生成数据集\n",
    "dataset = data.TensorDataset(*(features,labels))\n",
    "#利用数据集生成随机小批量数据集的生成器\n",
    "data_iter = data.DataLoader(dataset,batch_size,shuffle=True)"
   ]
  },
  {
   "cell_type": "code",
   "execution_count": 4,
   "id": "b69fda34",
   "metadata": {},
   "outputs": [
    {
     "data": {
      "text/plain": [
       "[tensor([[ 0.5034,  1.3254],\n",
       "         [-1.1126, -0.1871],\n",
       "         [ 0.4183, -0.8816],\n",
       "         [-0.5122,  1.5305],\n",
       "         [ 0.1538, -1.0363],\n",
       "         [-0.9922,  1.4266],\n",
       "         [-0.9214, -0.8309],\n",
       "         [ 0.0037,  0.0580],\n",
       "         [ 0.8835,  0.3094],\n",
       "         [ 0.0361, -0.5365]]),\n",
       " tensor([[ 0.7055],\n",
       "         [ 2.6162],\n",
       "         [ 8.0257],\n",
       "         [-2.0380],\n",
       "         [ 8.0203],\n",
       "         [-2.6388],\n",
       "         [ 5.1925],\n",
       "         [ 4.0178],\n",
       "         [ 4.9164],\n",
       "         [ 6.1172]])]"
      ]
     },
     "execution_count": 4,
     "metadata": {},
     "output_type": "execute_result"
    }
   ],
   "source": [
    "next(iter(data_iter))"
   ]
  },
  {
   "cell_type": "markdown",
   "id": "ac726916",
   "metadata": {},
   "source": [
    "## 3、定义模型 "
   ]
  },
  {
   "cell_type": "code",
   "execution_count": 5,
   "id": "42529f79",
   "metadata": {},
   "outputs": [],
   "source": [
    "from torch import nn\n",
    "#只有一个全连接层的深度学习模型\n",
    "net = nn.Sequential(nn.Linear(2,1))"
   ]
  },
  {
   "cell_type": "markdown",
   "id": "9f9f89ad",
   "metadata": {},
   "source": [
    "## 4、初始化参数 "
   ]
  },
  {
   "cell_type": "code",
   "execution_count": 6,
   "id": "20e0801f",
   "metadata": {},
   "outputs": [
    {
     "data": {
      "text/plain": [
       "tensor([0.])"
      ]
     },
     "execution_count": 6,
     "metadata": {},
     "output_type": "execute_result"
    }
   ],
   "source": [
    "#初始化模型的第一层参数，但只有一个层\n",
    "net[0].weight.data.normal_(0,0.01)\n",
    "net[0].bias.data.fill_(0)"
   ]
  },
  {
   "cell_type": "markdown",
   "id": "7f2fb7a0",
   "metadata": {},
   "source": [
    "## 5、定义损失函数 "
   ]
  },
  {
   "cell_type": "code",
   "execution_count": 7,
   "id": "6d988720",
   "metadata": {},
   "outputs": [],
   "source": [
    "#这就是均方误差的损失函数\n",
    "loss = nn.MSELoss()"
   ]
  },
  {
   "cell_type": "markdown",
   "id": "e705f57d",
   "metadata": {},
   "source": [
    "## 6、定义优化算法 "
   ]
  },
  {
   "cell_type": "code",
   "execution_count": 8,
   "id": "b78c856b",
   "metadata": {},
   "outputs": [
    {
     "data": {
      "text/plain": [
       "[Parameter containing:\n",
       " tensor([[-0.0012,  0.0014]], requires_grad=True),\n",
       " Parameter containing:\n",
       " tensor([0.], requires_grad=True)]"
      ]
     },
     "execution_count": 8,
     "metadata": {},
     "output_type": "execute_result"
    }
   ],
   "source": [
    "[item for item in net.parameters()]"
   ]
  },
  {
   "cell_type": "code",
   "execution_count": 9,
   "id": "2a24f951",
   "metadata": {},
   "outputs": [],
   "source": [
    "# 小批量随机梯度下降法\n",
    "trainer = torch.optim.SGD(net.parameters(),lr=0.03)"
   ]
  },
  {
   "cell_type": "markdown",
   "id": "5546234a",
   "metadata": {},
   "source": [
    "## 7、训练 "
   ]
  },
  {
   "cell_type": "code",
   "execution_count": 10,
   "id": "9c60ec7f",
   "metadata": {},
   "outputs": [
    {
     "name": "stdout",
     "output_type": "stream",
     "text": [
      "epoch 1,loss 0.000308\n",
      "epoch 2,loss 0.000099\n",
      "epoch 3,loss 0.000099\n"
     ]
    }
   ],
   "source": [
    "num_epochs= 3\n",
    "for epoch in range(num_epochs):\n",
    "    for X,y in data_iter:\n",
    "        # 1、计算小批量总损失，前向传播。\n",
    "        l = loss(net(X),y)\n",
    "        #避免梯度叠加\n",
    "        trainer.zero_grad()\n",
    "        #2、计算损失函数的梯度\n",
    "        l.backward()\n",
    "        #3、利用学习算法，优化参数\n",
    "        trainer.step()\n",
    "    l = loss(net(features),labels)\n",
    "    print(f'epoch {epoch+1},loss {l:f}')    "
   ]
  },
  {
   "cell_type": "code",
   "execution_count": 11,
   "id": "213b47cd",
   "metadata": {},
   "outputs": [
    {
     "name": "stdout",
     "output_type": "stream",
     "text": [
      "w的估计误差 tensor([-0.0003,  0.0004])\n",
      "b的估计误差： tensor([7.1526e-06])\n"
     ]
    }
   ],
   "source": [
    "w = net[0].weight.data\n",
    "print('w的估计误差',true_w-w.reshape(true_w.shape))\n",
    "b = net[0].bias.data\n",
    "print('b的估计误差：',true_b-b)"
   ]
  },
  {
   "cell_type": "markdown",
   "id": "aab62f22",
   "metadata": {},
   "source": [
    "## 练习 "
   ]
  },
  {
   "cell_type": "code",
   "execution_count": 12,
   "id": "bf694e56",
   "metadata": {},
   "outputs": [
    {
     "name": "stdout",
     "output_type": "stream",
     "text": [
      "epoch: 1, loss:0.00010626004223013297\n",
      "epoch: 2, loss:3.3190397516591474e-05\n",
      "epoch: 3, loss:0.00014073392958380282\n"
     ]
    }
   ],
   "source": [
    "# huber损失对应Pytorch的SmoothL1损失\n",
    "loss = nn.SmoothL1Loss(beta=0.5)\n",
    "num_epochs = 3\n",
    "for epoch in range(num_epochs):\n",
    "    for X, y in data_iter:\n",
    "        l = loss(net(X), y)\n",
    "        #开始计算梯度\n",
    "        trainer.zero_grad()\n",
    "        l.backward()\n",
    "        trainer.step()  #对所有参数进行更新\n",
    "    print(\"epoch: {}, loss:{}\".format(epoch + 1, l))"
   ]
  },
  {
   "cell_type": "code",
   "execution_count": 13,
   "id": "c7c431a9",
   "metadata": {},
   "outputs": [
    {
     "data": {
      "text/plain": [
       "(tensor([[0.0004, 0.0034]]), tensor([0.0052]))"
      ]
     },
     "execution_count": 13,
     "metadata": {},
     "output_type": "execute_result"
    }
   ],
   "source": [
    "net[0].weight.grad,net[0].bias.grad"
   ]
  },
  {
   "cell_type": "code",
   "execution_count": 14,
   "id": "a38a855c",
   "metadata": {},
   "outputs": [
    {
     "data": {
      "text/plain": [
       "Parameter containing:\n",
       "tensor([[ 2.0000, -3.4007]], requires_grad=True)"
      ]
     },
     "execution_count": 14,
     "metadata": {},
     "output_type": "execute_result"
    }
   ],
   "source": [
    "net[0].weight"
   ]
  },
  {
   "cell_type": "code",
   "execution_count": null,
   "id": "1c2ae3b1",
   "metadata": {},
   "outputs": [],
   "source": []
  }
 ],
 "metadata": {
  "kernelspec": {
   "display_name": "Python 3 (ipykernel)",
   "language": "python",
   "name": "python3"
  },
  "language_info": {
   "codemirror_mode": {
    "name": "ipython",
    "version": 3
   },
   "file_extension": ".py",
   "mimetype": "text/x-python",
   "name": "python",
   "nbconvert_exporter": "python",
   "pygments_lexer": "ipython3",
   "version": "3.9.16"
  }
 },
 "nbformat": 4,
 "nbformat_minor": 5
}
