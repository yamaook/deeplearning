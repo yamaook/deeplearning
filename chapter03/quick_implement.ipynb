{
 "cells": [
  {
   "cell_type": "code",
   "execution_count": 1,
   "id": "87e03b7b",
   "metadata": {},
   "outputs": [],
   "source": [
    "import numpy as np\n",
    "import torch\n",
    "from torch.utils import data\n",
    "from d2l import torch as d2l"
   ]
  },
  {
   "cell_type": "code",
   "execution_count": 2,
   "id": "b4d815a5",
   "metadata": {},
   "outputs": [],
   "source": [
    "true_w = torch.tensor([2,-3.4])\n",
    "true_b = 4.2\n",
    "features,labels = d2l.synthetic_data(true_w,true_b,1000)"
   ]
  },
  {
   "cell_type": "code",
   "execution_count": 3,
   "id": "1c9e629c",
   "metadata": {},
   "outputs": [],
   "source": [
    "batch_size=10\n",
    "dataset = data.TensorDataset(*(features,labels))\n",
    "data_iter = data.DataLoader(dataset,batch_size,shuffle=True)"
   ]
  },
  {
   "cell_type": "code",
   "execution_count": 4,
   "id": "b69fda34",
   "metadata": {},
   "outputs": [
    {
     "data": {
      "text/plain": [
       "[tensor([[ 0.9188,  0.6406],\n",
       "         [-0.5707, -1.3351],\n",
       "         [ 1.3931, -1.8306],\n",
       "         [-1.7588,  0.3455],\n",
       "         [ 0.5131, -0.9186],\n",
       "         [-0.3804,  0.6678],\n",
       "         [-0.7930,  1.7189],\n",
       "         [-0.2104,  0.3236],\n",
       "         [ 0.3419, -0.1770],\n",
       "         [-1.0655,  0.3594]]),\n",
       " tensor([[ 3.8527],\n",
       "         [ 7.6106],\n",
       "         [13.2000],\n",
       "         [-0.4824],\n",
       "         [ 8.3691],\n",
       "         [ 1.1700],\n",
       "         [-3.2190],\n",
       "         [ 2.6794],\n",
       "         [ 5.4908],\n",
       "         [ 0.8638]])]"
      ]
     },
     "execution_count": 4,
     "metadata": {},
     "output_type": "execute_result"
    }
   ],
   "source": [
    "next(iter(data_iter))"
   ]
  },
  {
   "cell_type": "code",
   "execution_count": 5,
   "id": "42529f79",
   "metadata": {},
   "outputs": [],
   "source": [
    "from torch import nn\n",
    "net = nn.Sequential(nn.Linear(2,1))"
   ]
  },
  {
   "cell_type": "code",
   "execution_count": 6,
   "id": "20e0801f",
   "metadata": {},
   "outputs": [
    {
     "data": {
      "text/plain": [
       "tensor([0.])"
      ]
     },
     "execution_count": 6,
     "metadata": {},
     "output_type": "execute_result"
    }
   ],
   "source": [
    "net[0].weight.data.normal_(0,0.01)\n",
    "net[0].bias.data.fill_(0)"
   ]
  },
  {
   "cell_type": "code",
   "execution_count": 7,
   "id": "6d988720",
   "metadata": {},
   "outputs": [],
   "source": [
    "loss = nn.MSELoss()"
   ]
  },
  {
   "cell_type": "code",
   "execution_count": 8,
   "id": "2a24f951",
   "metadata": {},
   "outputs": [],
   "source": [
    "trainer = torch.optim.SGD(net.parameters(),lr=0.03)"
   ]
  },
  {
   "cell_type": "code",
   "execution_count": 9,
   "id": "9c60ec7f",
   "metadata": {},
   "outputs": [
    {
     "name": "stdout",
     "output_type": "stream",
     "text": [
      "epoch 1,loss 0.000218\n",
      "epoch 2,loss 0.000101\n",
      "epoch 3,loss 0.000100\n"
     ]
    }
   ],
   "source": [
    "num_epochs= 3\n",
    "for epoch in range(num_epochs):\n",
    "    for X,y in data_iter:\n",
    "        l = loss(net(X),y)\n",
    "        #避免梯度叠加\n",
    "        trainer.zero_grad()\n",
    "        l.backward()\n",
    "        trainer.step()\n",
    "    l = loss(net(features),labels)\n",
    "    print(f'epoch {epoch+1},loss {l:f}')    "
   ]
  },
  {
   "cell_type": "code",
   "execution_count": 10,
   "id": "213b47cd",
   "metadata": {},
   "outputs": [
    {
     "name": "stdout",
     "output_type": "stream",
     "text": [
      "w的估计误差 tensor([-2.0242e-04, -1.5736e-05])\n",
      "b的估计误差： tensor([-0.0005])\n"
     ]
    }
   ],
   "source": [
    "w = net[0].weight.data\n",
    "print('w的估计误差',true_w-w.reshape(true_w.shape))\n",
    "b = net[0].bias.data\n",
    "print('b的估计误差：',true_b-b)"
   ]
  },
  {
   "cell_type": "markdown",
   "id": "aab62f22",
   "metadata": {},
   "source": [
    "## 练习 "
   ]
  },
  {
   "cell_type": "code",
   "execution_count": 11,
   "id": "bf694e56",
   "metadata": {},
   "outputs": [
    {
     "name": "stdout",
     "output_type": "stream",
     "text": [
      "epoch: 1, loss:4.98314511787612e-05\n",
      "epoch: 2, loss:3.757154263439588e-05\n",
      "epoch: 3, loss:5.637608774122782e-05\n"
     ]
    }
   ],
   "source": [
    "# huber损失对应Pytorch的SmoothL1损失\n",
    "loss = nn.SmoothL1Loss(beta=0.5)\n",
    "num_epochs = 3\n",
    "for epoch in range(num_epochs):\n",
    "    for X, y in data_iter:\n",
    "        l = loss(net(X), y)\n",
    "        #开始计算梯度\n",
    "        trainer.zero_grad()\n",
    "        l.backward()\n",
    "        trainer.step()  #对所有参数进行更新\n",
    "    print(\"epoch: {}, loss:{}\".format(epoch + 1, l))"
   ]
  },
  {
   "cell_type": "code",
   "execution_count": 12,
   "id": "c7c431a9",
   "metadata": {},
   "outputs": [
    {
     "data": {
      "text/plain": [
       "(tensor([[-0.0012, -0.0030]]), tensor([-0.0116]))"
      ]
     },
     "execution_count": 12,
     "metadata": {},
     "output_type": "execute_result"
    }
   ],
   "source": [
    "net[0].weight.grad,net[0].bias.grad"
   ]
  },
  {
   "cell_type": "code",
   "execution_count": 13,
   "id": "a38a855c",
   "metadata": {},
   "outputs": [
    {
     "data": {
      "text/plain": [
       "Parameter containing:\n",
       "tensor([[ 1.9987, -3.3995]], requires_grad=True)"
      ]
     },
     "execution_count": 13,
     "metadata": {},
     "output_type": "execute_result"
    }
   ],
   "source": [
    "net[0].weight"
   ]
  },
  {
   "cell_type": "code",
   "execution_count": null,
   "id": "1c2ae3b1",
   "metadata": {},
   "outputs": [],
   "source": []
  }
 ],
 "metadata": {
  "kernelspec": {
   "display_name": "Python 3 (ipykernel)",
   "language": "python",
   "name": "python3"
  },
  "language_info": {
   "codemirror_mode": {
    "name": "ipython",
    "version": 3
   },
   "file_extension": ".py",
   "mimetype": "text/x-python",
   "name": "python",
   "nbconvert_exporter": "python",
   "pygments_lexer": "ipython3",
   "version": "3.9.16"
  }
 },
 "nbformat": 4,
 "nbformat_minor": 5
}
