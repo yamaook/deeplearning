{
 "cells": [
  {
   "cell_type": "code",
   "execution_count": 1,
   "id": "5794849d",
   "metadata": {},
   "outputs": [],
   "source": [
    "import torch\n",
    "from torch import nn\n",
    "from d2l import torch as d2l\n",
    "import math\n",
    "import pandas as pd"
   ]
  },
  {
   "cell_type": "code",
   "execution_count": 2,
   "id": "a3ed76f9",
   "metadata": {},
   "outputs": [],
   "source": [
    "def transpose_qkv(X, num_heads):\n",
    "    \"\"\"\n",
    "        为了多注意力头的并行计算而变换形状\n",
    "            将X的维度切断后，分给不同的头处理。\n",
    "            \n",
    "    \"\"\"\n",
    "    # 输入X的形状:(batch_size，查询或者“键－值”对的个数，num_hiddens)\n",
    "    # 输出X的形状:(batch_size，查询或者“键－值”对的个数，num_heads，num_hiddens/num_heads)\n",
    "    X = X.reshape(X.shape[0], X.shape[1], num_heads, -1)\n",
    "\n",
    "    # 输出X的形状:(batch_size，num_heads，查询或者“键－值”对的个数,num_hiddens/num_heads)\n",
    "    X = X.permute(0, 2, 1, 3)\n",
    "\n",
    "    # 最终输出的形状:(batch_size*num_heads,查询或者“键－值”对的个数,num_hiddens/num_heads)\n",
    "    return X.reshape(-1, X.shape[2], X.shape[3])"
   ]
  },
  {
   "cell_type": "code",
   "execution_count": 3,
   "id": "db7710f8",
   "metadata": {},
   "outputs": [],
   "source": [
    "a = torch.randn((2,3,9))"
   ]
  },
  {
   "cell_type": "code",
   "execution_count": 4,
   "id": "d813db21",
   "metadata": {},
   "outputs": [
    {
     "data": {
      "text/plain": [
       "tensor([[[ 0.6553, -0.9672, -0.3537,  0.6736,  0.1459,  0.3441, -0.4819,\n",
       "          -2.2395,  1.5547],\n",
       "         [-0.5670, -0.3486, -0.7059, -0.1144,  1.5583, -0.6897,  0.7415,\n",
       "          -1.0818, -0.5347],\n",
       "         [ 1.1206,  0.4609, -1.1403, -0.8820, -1.4045,  0.1678,  0.3981,\n",
       "          -0.0918,  0.5389]],\n",
       "\n",
       "        [[-0.8795, -1.1234, -1.2054,  1.9456, -0.2745,  0.0574, -0.6853,\n",
       "          -0.6875,  0.3098],\n",
       "         [-0.6960, -2.0392,  0.3561,  0.4584,  1.0259, -1.3871,  1.2355,\n",
       "           0.2464,  0.9230],\n",
       "         [ 1.5761, -0.0202, -0.3672, -0.7423,  0.2101, -2.4140, -0.1120,\n",
       "          -0.1747,  0.1859]]])"
      ]
     },
     "execution_count": 4,
     "metadata": {},
     "output_type": "execute_result"
    }
   ],
   "source": [
    "a"
   ]
  },
  {
   "cell_type": "code",
   "execution_count": 5,
   "id": "f73982b7",
   "metadata": {},
   "outputs": [
    {
     "data": {
      "text/plain": [
       "tensor([[[ 0.6553, -0.9672, -0.3537,  0.6736,  0.1459,  0.3441, -0.4819,\n",
       "          -2.2395,  1.5547],\n",
       "         [-0.5670, -0.3486, -0.7059, -0.1144,  1.5583, -0.6897,  0.7415,\n",
       "          -1.0818, -0.5347],\n",
       "         [ 1.1206,  0.4609, -1.1403, -0.8820, -1.4045,  0.1678,  0.3981,\n",
       "          -0.0918,  0.5389]],\n",
       "\n",
       "        [[-0.8795, -1.1234, -1.2054,  1.9456, -0.2745,  0.0574, -0.6853,\n",
       "          -0.6875,  0.3098],\n",
       "         [-0.6960, -2.0392,  0.3561,  0.4584,  1.0259, -1.3871,  1.2355,\n",
       "           0.2464,  0.9230],\n",
       "         [ 1.5761, -0.0202, -0.3672, -0.7423,  0.2101, -2.4140, -0.1120,\n",
       "          -0.1747,  0.1859]]])"
      ]
     },
     "execution_count": 5,
     "metadata": {},
     "output_type": "execute_result"
    }
   ],
   "source": [
    "d2l.transpose_output(transpose_qkv(a,3),3)"
   ]
  },
  {
   "cell_type": "code",
   "execution_count": 6,
   "id": "3a6ab360",
   "metadata": {},
   "outputs": [],
   "source": [
    "a = torch.randn(1, 5,3)"
   ]
  },
  {
   "cell_type": "code",
   "execution_count": 7,
   "id": "c9c04848",
   "metadata": {},
   "outputs": [
    {
     "data": {
      "text/plain": [
       "tensor([[[-0.0127, -0.2887,  1.5477],\n",
       "         [-1.5060,  0.9637,  0.9685],\n",
       "         [-0.9791, -1.1097,  0.1590],\n",
       "         [-0.0262,  0.3039,  0.9592],\n",
       "         [-0.5225,  0.4729, -0.2219]]])"
      ]
     },
     "execution_count": 7,
     "metadata": {},
     "output_type": "execute_result"
    }
   ],
   "source": [
    "a"
   ]
  },
  {
   "cell_type": "code",
   "execution_count": 8,
   "id": "0d797f54",
   "metadata": {},
   "outputs": [
    {
     "data": {
      "text/plain": [
       "tensor([[[-0.0127, -0.2887,  1.5477],\n",
       "         [-1.5060,  0.9637,  0.9685]]])"
      ]
     },
     "execution_count": 8,
     "metadata": {},
     "output_type": "execute_result"
    }
   ],
   "source": [
    "a[:,:2,:]"
   ]
  },
  {
   "cell_type": "code",
   "execution_count": 12,
   "id": "3ffc253b",
   "metadata": {},
   "outputs": [
    {
     "data": {
      "text/plain": [
       "tensor([[[-0.5073, -0.4896],\n",
       "         [ 0.1574,  0.0384],\n",
       "         [ 0.6590,  0.0907],\n",
       "         [-0.2328,  3.1810],\n",
       "         [-0.3632,  0.3216],\n",
       "         [-1.3317, -0.1453],\n",
       "         [-3.0024,  0.8046],\n",
       "         [-0.9502, -0.8820],\n",
       "         [-0.3713, -0.2523],\n",
       "         [-0.5856,  1.9133]],\n",
       "\n",
       "        [[ 1.2407,  0.7914],\n",
       "         [ 1.0452, -0.9501],\n",
       "         [-0.5046, -0.5260],\n",
       "         [-1.1320, -0.8667],\n",
       "         [ 0.2222, -1.1028],\n",
       "         [-0.9253,  0.0304],\n",
       "         [-0.2997,  0.4115],\n",
       "         [-0.3173,  1.0592],\n",
       "         [ 0.5815,  0.1927],\n",
       "         [-1.3292,  2.0807]]])"
      ]
     },
     "execution_count": 12,
     "metadata": {},
     "output_type": "execute_result"
    }
   ],
   "source": [
    "a = torch.randn((2,10,2))\n",
    "a"
   ]
  },
  {
   "cell_type": "code",
   "execution_count": 14,
   "id": "b5f0e16e",
   "metadata": {},
   "outputs": [
    {
     "data": {
      "text/plain": [
       "tensor([[[ 0.1574,  0.0384],\n",
       "         [ 0.6590,  0.0907],\n",
       "         [-0.2328,  3.1810]],\n",
       "\n",
       "        [[-0.3173,  1.0592],\n",
       "         [ 0.5815,  0.1927],\n",
       "         [-1.3292,  2.0807]]])"
      ]
     },
     "execution_count": 14,
     "metadata": {},
     "output_type": "execute_result"
    }
   ],
   "source": [
    "a[[0,0,0,1,1,1],torch.tensor([1,2,3,7,8,9])].reshape(2,3,-1)"
   ]
  },
  {
   "cell_type": "code",
   "execution_count": null,
   "id": "bb7a1332",
   "metadata": {},
   "outputs": [],
   "source": []
  }
 ],
 "metadata": {
  "kernelspec": {
   "display_name": "Python 3 (ipykernel)",
   "language": "python",
   "name": "python3"
  },
  "language_info": {
   "codemirror_mode": {
    "name": "ipython",
    "version": 3
   },
   "file_extension": ".py",
   "mimetype": "text/x-python",
   "name": "python",
   "nbconvert_exporter": "python",
   "pygments_lexer": "ipython3",
   "version": "3.9.16"
  }
 },
 "nbformat": 4,
 "nbformat_minor": 5
}
