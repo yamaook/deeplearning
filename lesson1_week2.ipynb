{
 "cells": [
  {
   "cell_type": "markdown",
   "id": "ebd839a7",
   "metadata": {},
   "source": [
    "3. Suppose img is a (32,32,3) array, representing a 32x32 image with 3 color channels red, \n",
    "green and blue. How do you reshape this into a column vector?(假设 img 是一个（32,32,3）\n",
    "数组，具有 3 个颜色通道：红色、绿色和蓝色的 32x32 像素的图像。 如何将其重新转换为\n",
    "列向量？"
   ]
  },
  {
   "cell_type": "code",
   "execution_count": 6,
   "id": "536c142b",
   "metadata": {},
   "outputs": [
    {
     "ename": "SyntaxError",
     "evalue": "invalid character '，' (U+FF0C) (3544795319.py, line 3)",
     "output_type": "error",
     "traceback": [
      "\u001b[1;36m  File \u001b[1;32m\"C:\\Users\\40011\\AppData\\Local\\Temp\\ipykernel_3288\\3544795319.py\"\u001b[1;36m, line \u001b[1;32m3\u001b[0m\n\u001b[1;33m    img = np.array((32，32，3))\u001b[0m\n\u001b[1;37m                      ^\u001b[0m\n\u001b[1;31mSyntaxError\u001b[0m\u001b[1;31m:\u001b[0m invalid character '，' (U+FF0C)\n"
     ]
    }
   ],
   "source": [
    "import numpy as np\n",
    "\n",
    "img = np.array((32，32，3))"
   ]
  },
  {
   "cell_type": "code",
   "execution_count": null,
   "id": "355fe19f",
   "metadata": {},
   "outputs": [],
   "source": []
  }
 ],
 "metadata": {
  "kernelspec": {
   "display_name": "Python 3 (ipykernel)",
   "language": "python",
   "name": "python3"
  },
  "language_info": {
   "codemirror_mode": {
    "name": "ipython",
    "version": 3
   },
   "file_extension": ".py",
   "mimetype": "text/x-python",
   "name": "python",
   "nbconvert_exporter": "python",
   "pygments_lexer": "ipython3",
   "version": "3.9.13"
  }
 },
 "nbformat": 4,
 "nbformat_minor": 5
}
